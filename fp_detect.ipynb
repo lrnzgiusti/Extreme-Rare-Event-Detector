{
 "cells": [
  {
   "cell_type": "code",
   "execution_count": 21,
   "metadata": {},
   "outputs": [],
   "source": [
    "import pandas as pd\n",
    "import numpy as np\n",
    "import os\n",
    "from datetime import datetime\n",
    "date_format = \"%Y-%m-%d\""
   ]
  },
  {
   "cell_type": "code",
   "execution_count": 75,
   "metadata": {},
   "outputs": [],
   "source": [
    "os.chdir(r'C:\\Users\\logiusti\\Lorenzo\\PyWorkspace\\scripts\\Wrapper\\data\\anom1')"
   ]
  },
  {
   "cell_type": "code",
   "execution_count": 71,
   "metadata": {},
   "outputs": [],
   "source": [
    "crit_seqs_path=r\"C:\\Users\\logiusti\\Lorenzo\\PyWorkspace\\scripts\\Wrapper\\data\\critical_dates\"\n",
    "anomalities_path=r'C:\\Users\\logiusti\\Lorenzo\\PyWorkspace\\scripts\\Wrapper\\data\\anom1'"
   ]
  },
  {
   "cell_type": "code",
   "execution_count": 84,
   "metadata": {},
   "outputs": [],
   "source": [
    "#crit_seq = pd.to_datetime(pd.Series(pd.read_csv(crit_seqs_path+\"\\\\\"+\"ESS6_SLASH_85X\"+'_crit_seq_dates.csv', header=None)[0])).sort_values().reset_index(drop=True)\n",
    "crit_seq = pd.Series()\n",
    "anomalities = pd.read_csv(\"./\"+\"ESS6_SLASH_85X\"+'/LSTM_autoencoder_distance.csv')\n",
    "anomalities = anomalities.loc[anomalities['Anomaly'] == True]\n",
    "anomalities['Time'] = pd.to_datetime(anomalities['Time'], format=\"%Y-%m-%d %H:%M:%S.%f\")\n",
    "\n",
    "#tim off \n",
    "\n",
    "dayoff = ((anomalities.Time.iloc[-1] - anomalities.Time.iloc[0]).days)*.1\n",
    "anomalities = anomalities.loc[anomalities['Time']  >= (pd.to_datetime(anomalities.Time[0], format=\"%Y-%m-%d\") + pd.DateOffset(days=dayoff))]\n",
    "\n",
    "def pick_the_peak(df):\n",
    "    return df.loc[df['Loss_mae'] == max(df['Loss_mae'])]\n",
    "\n",
    "\n",
    "anomalities['groups'] = (anomalities.Time.diff().fillna(pd.Timedelta(seconds=0))/np.timedelta64(7, 'D'))\\\n",
    "                                .gt(1).cumsum().add(1).astype(str)\n",
    "anomalities.set_index('groups', drop=True, inplace=True)\n",
    "danger = anomalities.groupby(level=0, group_keys=False).apply(pick_the_peak)\n",
    "danger['Time'] = danger['Time'].dt.date"
   ]
  },
  {
   "cell_type": "code",
   "execution_count": 85,
   "metadata": {},
   "outputs": [
    {
     "ename": "SyntaxError",
     "evalue": "unexpected EOF while parsing (<ipython-input-85-68880384f18c>, line 1)",
     "output_type": "error",
     "traceback": [
      "\u001b[1;36m  File \u001b[1;32m\"<ipython-input-85-68880384f18c>\"\u001b[1;36m, line \u001b[1;32m1\u001b[0m\n\u001b[1;33m    (crit_seq\u001b[0m\n\u001b[1;37m              ^\u001b[0m\n\u001b[1;31mSyntaxError\u001b[0m\u001b[1;31m:\u001b[0m unexpected EOF while parsing\n"
     ]
    }
   ],
   "source": [
    "(crit_seq "
   ]
  },
  {
   "cell_type": "code",
   "execution_count": 86,
   "metadata": {},
   "outputs": [
    {
     "name": "stdout",
     "output_type": "stream",
     "text": [
      "2013-12-18 00:00:00 2013-12-22 00:00:00\n",
      "Pensa positivo\n",
      " Time         2013-12-18\n",
      "Loss_mae        3.20254\n",
      "Threshold       2.84371\n",
      "Anomaly            True\n",
      "Name: 1, dtype: object\n"
     ]
    }
   ],
   "source": [
    "for idx,row in danger.iterrows():\n",
    "    start = pd.to_datetime(row.Time, format=\"%Y-%m-%d\")\n",
    "    end = start + pd.DateOffset(days=4)\n",
    "    print(start, end)\n",
    "    if crit_seq.loc[(crit_seq >= start ) & (crit_seq <= end) ].empty:# and row['Loss_mae'] >= 1.5*row['Threshold']:\n",
    "        print(\"Pensa positivo\\n\", row)"
   ]
  },
  {
   "cell_type": "code",
   "execution_count": null,
   "metadata": {},
   "outputs": [],
   "source": []
  }
 ],
 "metadata": {
  "kernelspec": {
   "display_name": "Python 3",
   "language": "python",
   "name": "python3"
  },
  "language_info": {
   "codemirror_mode": {
    "name": "ipython",
    "version": 3
   },
   "file_extension": ".py",
   "mimetype": "text/x-python",
   "name": "python",
   "nbconvert_exporter": "python",
   "pygments_lexer": "ipython3",
   "version": "3.7.3"
  }
 },
 "nbformat": 4,
 "nbformat_minor": 2
}
