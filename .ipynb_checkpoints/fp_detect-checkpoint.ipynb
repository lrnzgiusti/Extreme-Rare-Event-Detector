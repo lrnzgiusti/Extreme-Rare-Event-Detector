{
 "cells": [
  {
   "cell_type": "code",
   "execution_count": 21,
   "metadata": {},
   "outputs": [],
   "source": [
    "import pandas as pd\n",
    "import numpy as np\n",
    "import os\n",
    "from datetime import datetime\n",
    "date_format = \"%Y-%m-%d\""
   ]
  },
  {
   "cell_type": "code",
   "execution_count": 4,
   "metadata": {},
   "outputs": [],
   "source": [
    "os.chdir(r'C:\\Users\\logiusti\\Lorenzo\\PyWorkspace\\scripts\\Wrapper\\data\\anom')"
   ]
  },
  {
   "cell_type": "code",
   "execution_count": 5,
   "metadata": {},
   "outputs": [],
   "source": [
    "crit_seqs_path=r\"C:\\Users\\logiusti\\Lorenzo\\PyWorkspace\\scripts\\Wrapper\\data\\critical_dates\"\n",
    "anomalities_path=r'C:\\Users\\logiusti\\Lorenzo\\PyWorkspace\\scripts\\Wrapper\\data\\anom'"
   ]
  },
  {
   "cell_type": "code",
   "execution_count": 37,
   "metadata": {},
   "outputs": [],
   "source": [
    "crit_seq = pd.to_datetime(pd.Series(pd.read_csv('crit_seq_date.csv', header=None)[0])).sort_values().reset_index(drop=True)\n",
    "anomalities = pd.read_csv('LSTM_autoencoder_distance.csv')\n",
    "anomalities = anomalities.loc[anomalities['Anomaly'] == True]\n",
    "anomalities['Time'] = pd.to_datetime(anomalities['Time'], format=\"%Y-%m-%d %H:%M:%S.%f\")\n"
   ]
  },
  {
   "cell_type": "code",
   "execution_count": 22,
   "metadata": {},
   "outputs": [
    {
     "ename": "TypeError",
     "evalue": "strptime() argument 1 must be str, not Timestamp",
     "output_type": "error",
     "traceback": [
      "\u001b[1;31m---------------------------------------------------------------------------\u001b[0m",
      "\u001b[1;31mTypeError\u001b[0m                                 Traceback (most recent call last)",
      "\u001b[1;32m<ipython-input-22-b4310d5a15c0>\u001b[0m in \u001b[0;36m<module>\u001b[1;34m\u001b[0m\n\u001b[0;32m      6\u001b[0m \u001b[1;33m\u001b[0m\u001b[0m\n\u001b[0;32m      7\u001b[0m \u001b[1;31m#tim off\u001b[0m\u001b[1;33m\u001b[0m\u001b[1;33m\u001b[0m\u001b[1;33m\u001b[0m\u001b[0m\n\u001b[1;32m----> 8\u001b[1;33m \u001b[0ms\u001b[0m \u001b[1;33m=\u001b[0m \u001b[0mdatetime\u001b[0m\u001b[1;33m.\u001b[0m\u001b[0mstrptime\u001b[0m\u001b[1;33m(\u001b[0m\u001b[0manomalities\u001b[0m\u001b[1;33m.\u001b[0m\u001b[0mTime\u001b[0m\u001b[1;33m[\u001b[0m\u001b[1;36m0\u001b[0m\u001b[1;33m]\u001b[0m\u001b[1;33m,\u001b[0m \u001b[0mdate_format\u001b[0m\u001b[1;33m)\u001b[0m\u001b[1;33m\u001b[0m\u001b[1;33m\u001b[0m\u001b[0m\n\u001b[0m\u001b[0;32m      9\u001b[0m \u001b[0me\u001b[0m \u001b[1;33m=\u001b[0m \u001b[0mdatetime\u001b[0m\u001b[1;33m.\u001b[0m\u001b[0mstrptime\u001b[0m\u001b[1;33m(\u001b[0m\u001b[0manomalities\u001b[0m\u001b[1;33m.\u001b[0m\u001b[0mTime\u001b[0m\u001b[1;33m[\u001b[0m\u001b[1;33m-\u001b[0m\u001b[1;36m1\u001b[0m\u001b[1;33m]\u001b[0m\u001b[1;33m,\u001b[0m \u001b[0mdate_format\u001b[0m\u001b[1;33m)\u001b[0m\u001b[1;33m\u001b[0m\u001b[1;33m\u001b[0m\u001b[0m\n\u001b[0;32m     10\u001b[0m \u001b[0mdayoff\u001b[0m \u001b[1;33m=\u001b[0m \u001b[1;33m(\u001b[0m\u001b[0me\u001b[0m\u001b[1;33m-\u001b[0m\u001b[0ms\u001b[0m\u001b[1;33m)\u001b[0m\u001b[1;33m.\u001b[0m\u001b[0mdays\u001b[0m\u001b[1;33m\u001b[0m\u001b[1;33m\u001b[0m\u001b[0m\n",
      "\u001b[1;31mTypeError\u001b[0m: strptime() argument 1 must be str, not Timestamp"
     ]
    }
   ],
   "source": [
    "crit_seq = pd.to_datetime(pd.Series(pd.read_csv(crit_seqs_path+\"\\\\\"+\"ESS328_SLASH_5E\"+'_crit_seq_dates.csv', header=None)[0])).sort_values().reset_index(drop=True)\n",
    "\n",
    "anomalities = pd.read_csv(\"./\"+\"ESS328_SLASH_5E\"+'/LSTM_autoencoder_distance.csv')\n",
    "anomalities = anomalities.loc[anomalities['Anomaly'] == True]\n",
    "anomalities['Time'] = pd.to_datetime(anomalities['Time'], format=\"%Y-%m-%d %H:%M:%S.%f\")\n",
    "\n",
    "#tim off \n",
    "\n",
    "dayoff = ((anomalities.Time.iloc[-1] - anomalities.Time.iloc[0]).days)*.05\n",
    "anomalities = anomalities.loc[anomalities['Time']  >= (pd.to_datetime(anomalities.Time[0], format=\"%Y-%m-%d\") + pd.DateOffset(days=dayoff))]\n",
    "\n",
    "def pick_the_peak(df):\n",
    "    return df.loc[df['Loss_mae'] == max(df['Loss_mae'])]\n",
    "\n",
    "\n",
    "anomalities['groups'] = (anomalities.Time.diff().fillna(pd.Timedelta(seconds=0))/np.timedelta64(7, 'D'))\\\n",
    "                                .gt(1).cumsum().add(1).astype(str)\n",
    "anomalities.set_index('groups', drop=True, inplace=True)\n",
    "danger = anomalities.groupby(level=0, group_keys=False).apply(pick_the_peak)\n",
    "danger['Time'] = danger['Time'].dt.date"
   ]
  },
  {
   "cell_type": "code",
   "execution_count": null,
   "metadata": {},
   "outputs": [],
   "source": []
  },
  {
   "cell_type": "code",
   "execution_count": 16,
   "metadata": {},
   "outputs": [
    {
     "name": "stdout",
     "output_type": "stream",
     "text": [
      "Pensa positivo\n",
      " Time         2013-12-12\n",
      "Loss_mae        5.24223\n",
      "Threshold       2.54528\n",
      "Anomaly            True\n",
      "Name: 1, dtype: object\n"
     ]
    }
   ],
   "source": [
    "for idx,row in danger.iterrows():\n",
    "    start = pd.to_datetime(row.Time, format=\"%Y-%m-%d\")\n",
    "    end = start + pd.DateOffset(days=4)\n",
    "    if crit_seq.loc[(crit_seq >= start ) & (crit_seq <= end) ].empty and row['Loss_mae'] >= 1.5*row['Threshold']:\n",
    "        print(\"Pensa positivo\\n\", row)"
   ]
  },
  {
   "cell_type": "code",
   "execution_count": 51,
   "metadata": {},
   "outputs": [],
   "source": [
    "start = pd.to_datetime(\"2019-08-05\", format=\"%Y-%m-%d\")\n",
    "end = start + pd.DateOffset(days=4)"
   ]
  },
  {
   "cell_type": "code",
   "execution_count": 57,
   "metadata": {},
   "outputs": [
    {
     "data": {
      "text/plain": [
       "False"
      ]
     },
     "execution_count": 57,
     "metadata": {},
     "output_type": "execute_result"
    }
   ],
   "source": [
    "crit_seq.loc[(crit_seq >= start ) & (crit_seq <= end) ].empty"
   ]
  },
  {
   "cell_type": "code",
   "execution_count": 41,
   "metadata": {},
   "outputs": [],
   "source": [
    "def pick_the_peak(df):\n",
    "    return df.loc[df['Loss_mae'] == max(df['Loss_mae'])] #['ts'].dt.date\n",
    "\n",
    "\n",
    "anomalities['groups'] = (anomalities.Time.diff().fillna(pd.Timedelta(seconds=0))/np.timedelta64(7, 'D'))\\\n",
    "                                .gt(1).cumsum().add(1).astype(str)\n",
    "anomalities.set_index('groups', drop=True, inplace=True)\n",
    "danger = anomalities.groupby(level=0, group_keys=False).apply(pick_the_peak)\n",
    "danger['Time'] = danger['Time'].dt.date"
   ]
  },
  {
   "cell_type": "code",
   "execution_count": 63,
   "metadata": {},
   "outputs": [
    {
     "name": "stdout",
     "output_type": "stream",
     "text": [
      "Pensa positivo\n",
      " Time         2013-12-12\n",
      "Loss_mae        5.24223\n",
      "Threshold       2.54528\n",
      "Anomaly            True\n",
      "Name: 1, dtype: object\n"
     ]
    }
   ],
   "source": [
    "for idx,row in danger.iterrows():\n",
    "    start = pd.to_datetime(row.Time, format=\"%Y-%m-%d\")\n",
    "    end = start + pd.DateOffset(days=4)\n",
    "    if crit_seq.loc[(crit_seq >= start ) & (crit_seq <= end) ].empty and row['Loss_mae'] >= 1.5*row['Threshold']:\n",
    "        print(\"Pensa positivo\\n\", row)"
   ]
  }
 ],
 "metadata": {
  "kernelspec": {
   "display_name": "Python 3",
   "language": "python",
   "name": "python3"
  },
  "language_info": {
   "codemirror_mode": {
    "name": "ipython",
    "version": 3
   },
   "file_extension": ".py",
   "mimetype": "text/x-python",
   "name": "python",
   "nbconvert_exporter": "python",
   "pygments_lexer": "ipython3",
   "version": "3.7.3"
  }
 },
 "nbformat": 4,
 "nbformat_minor": 2
}
