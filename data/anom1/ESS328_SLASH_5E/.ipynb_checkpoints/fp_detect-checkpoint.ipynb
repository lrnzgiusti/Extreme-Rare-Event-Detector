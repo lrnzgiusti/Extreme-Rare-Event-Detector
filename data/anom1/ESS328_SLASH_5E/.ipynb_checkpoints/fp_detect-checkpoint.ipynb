{
 "cells": [
  {
   "cell_type": "code",
   "execution_count": 39,
   "metadata": {},
   "outputs": [],
   "source": [
    "import pandas as pd\n",
    "import numpy as np"
   ]
  },
  {
   "cell_type": "code",
   "execution_count": 37,
   "metadata": {},
   "outputs": [],
   "source": [
    "crit_seq = pd.to_datetime(pd.Series(pd.read_csv('crit_seq_date.csv', header=None)[0])).sort_values().reset_index(drop=True)\n",
    "anomalities = pd.read_csv('LSTM_autoencoder_distance.csv')\n",
    "anomalities = anomalibties.loc[anomalities['Anomaly'] == True]\n",
    "anomalities['Time'] = pd.to_datetime(anomalities['Time'], format=\"%Y-%m-%d %H:%M:%S.%f\")\n"
   ]
  },
  {
   "cell_type": "code",
   "execution_count": 51,
   "metadata": {},
   "outputs": [],
   "source": [
    "start = pd.to_datetime(\"2019-08-05\", format=\"%Y-%m-%d\")\n",
    "end = start + pd.DateOffset(days=4)"
   ]
  },
  {
   "cell_type": "code",
   "execution_count": 57,
   "metadata": {},
   "outputs": [
    {
     "data": {
      "text/plain": [
       "False"
      ]
     },
     "execution_count": 57,
     "metadata": {},
     "output_type": "execute_result"
    }
   ],
   "source": [
    "crit_seq.loc[(crit_seq >= start ) & (crit_seq <= end) ].empty"
   ]
  },
  {
   "cell_type": "code",
   "execution_count": 41,
   "metadata": {},
   "outputs": [],
   "source": [
    "def pick_the_peak(df):\n",
    "    return df.loc[df['Loss_mae'] == max(df['Loss_mae'])] #['ts'].dt.date\n",
    "\n",
    "\n",
    "anomalities['groups'] = (anomalities.Time.diff().fillna(pd.Timedelta(seconds=0))/np.timedelta64(7, 'D'))\\\n",
    "                                .gt(1).cumsum().add(1).astype(str)\n",
    "anomalities.set_index('groups', drop=True, inplace=True)\n",
    "danger = anomalities.groupby(level=0, group_keys=False).apply(pick_the_peak)\n",
    "danger['Time'] = danger['Time'].dt.date"
   ]
  },
  {
   "cell_type": "code",
   "execution_count": 63,
   "metadata": {},
   "outputs": [
    {
     "name": "stdout",
     "output_type": "stream",
     "text": [
      "Pensa positivo\n",
      " Time         2013-12-12\n",
      "Loss_mae        5.24223\n",
      "Threshold       2.54528\n",
      "Anomaly            True\n",
      "Name: 1, dtype: object\n"
     ]
    }
   ],
   "source": [
    "for idx,row in danger.iterrows():\n",
    "    start = pd.to_datetime(row.Time, format=\"%Y-%m-%d\")\n",
    "    end = start + pd.DateOffset(days=4)\n",
    "    if crit_seq.loc[(crit_seq >= start ) & (crit_seq <= end) ].empty and row['Loss_mae'] >= 1.5*row['Threshold']:\n",
    "        print(\"Pensa positivo\\n\", row)"
   ]
  },
  {
   "cell_type": "code",
   "execution_count": null,
   "metadata": {},
   "outputs": [],
   "source": [
    "pd.DateOffset(days=180)\n"
   ]
  }
 ],
 "metadata": {
  "kernelspec": {
   "display_name": "Python 3",
   "language": "python",
   "name": "python3"
  },
  "language_info": {
   "codemirror_mode": {
    "name": "ipython",
    "version": 3
   },
   "file_extension": ".py",
   "mimetype": "text/x-python",
   "name": "python",
   "nbconvert_exporter": "python",
   "pygments_lexer": "ipython3",
   "version": "3.7.3"
  }
 },
 "nbformat": 4,
 "nbformat_minor": 2
}
